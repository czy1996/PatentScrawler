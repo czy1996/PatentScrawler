{
 "cells": [
  {
   "cell_type": "code",
   "execution_count": 4,
   "metadata": {
    "collapsed": true
   },
   "outputs": [
    {
     "data": {
      "text/plain": [
       "array(['序号', '专利名称', '编号名称', '数据格式', '关键词', '申请摘要', '申请号', '申请日', '公开号',\n       '公开日', '主分类号(小组)', '申请人', '发明人', '优先权', '优先权日', '申请人地址', '申请人邮编',\n       'CPC分类号', 'Unnamed: 18', '授权公告日', '国际申请日', '国际公开日', '授权公告号',\n       '国际申请号', '国际公开号', '专利类型', '主权项', '权利要求项数', '申请人类型', '国省代码', '当前权利人',\n       '当前著录项联系人通讯地址', '法律状态', '第二法律状态', '审查日', '引证专利', '引证数', '专利代理人',\n       '专利代理机构', '全文链接', '摘要附图'], dtype=object)"
      ]
     },
     "execution_count": 4,
     "metadata": {},
     "output_type": "execute_result"
    }
   ],
   "source": [
    "import pandas as pd\n",
    "df = pd.read_excel('1.xls')\n",
    "df.columns.values"
   ]
  },
  {
   "cell_type": "code",
   "execution_count": 5,
   "metadata": {
    "collapsed": true
   },
   "outputs": [
    {
     "data": {
      "text/plain": [
       "0              混合切削结构石油天然气钻井钻头\n1                一种改进型防泥包槽钻井钻头\n2                    混合式井下钻井钻头\n3                  一种石油页岩气钻井钻头\n4                 一种地震勘探复合钻井钻头\n5                  一种石油勘探用钻井钻头\n6                  一种石油天然气钻井钻头\n7                      等离子钻井钻头\n8               一种改进的石油天然气钻井钻头\n9         一种具有防泥包槽和弧形护罩的新型钻井钻头\n10                一种热液辅助冲击钻井钻头\n11        具备岩石薄片鉴定功能的石油勘探用钻井钻头\n12              一种石油钻井钻头RFID结构\n13               气体钻井钻头及气体钻井系统\n14               一种旋转钻井钻头及制造方法\n15                    一种导向钻井钻头\n16           一种具有泥石定向排出功能的钻井钻头\n17                      旋流钻井钻头\n18                一种高效率的油田钻井钻头\n19    一种碳化钒钛硬质合金及其制备的钻井钻头及制备方法\n20                 一种高效耐用的钻井钻头\n21          装有自激式脉冲谐振射流喷嘴的钻井钻头\n22                    一种定向钻井钻头\n23                 一种石油天然气钻井钻头\nName: 专利名称, dtype: object"
      ]
     },
     "execution_count": 5,
     "metadata": {},
     "output_type": "execute_result"
    }
   ],
   "source": [
    "df['专利名称']"
   ]
  },
  {
   "cell_type": "code",
   "execution_count": 6,
   "metadata": {
    "collapsed": true
   },
   "outputs": [
    {
     "data": {
      "text/plain": [
       "array(['编号', '资源类型', '资源分类', '名称', '编号名称', '数据格式', '关键词', '摘要', '申请号\\xad',\n       '申请日', '公开（公告）号\\xad', '公开（公告）日', 'IPC分类号', '申请（专利权）人', '发明人',\n       '优先权号', '优先权日', '申请人地址', '申请人邮编', 'CPC分类号'], dtype=object)"
      ]
     },
     "execution_count": 6,
     "metadata": {},
     "output_type": "execute_result"
    }
   ],
   "source": [
    "df2 = pd.read_excel('02-ZL-01机械采油.xlsx')\n",
    "df2.columns.values"
   ]
  },
  {
   "cell_type": "code",
   "execution_count": 11,
   "metadata": {
    "collapsed": true
   },
   "outputs": [
    {
     "data": {
      "text/plain": [
       "['origin\\\\05-ZL-01钻头.xlsx',\n 'origin\\\\05-ZL-07取心技术.xlsx',\n 'origin\\\\05-ZL-07取心技术2.xlsx']"
      ]
     },
     "execution_count": 11,
     "metadata": {},
     "output_type": "execute_result"
    }
   ],
   "source": [
    "import os\n",
    "filenames = os.listdir('origin')\n",
    "[os.path.join('origin', filename) for filename in filenames]"
   ]
  },
  {
   "cell_type": "code",
   "execution_count": 12,
   "metadata": {
    "collapsed": true
   },
   "outputs": [
    {
     "data": {
      "text/plain": [
       "True"
      ]
     },
     "execution_count": 12,
     "metadata": {},
     "output_type": "execute_result"
    }
   ],
   "source": [
    "os.path.exists('scrawler.py')"
   ]
  },
  {
   "cell_type": "code",
   "execution_count": 5,
   "metadata": {
    "collapsed": true
   },
   "outputs": [
    {
     "name": "stdout",
     "output_type": "stream",
     "text": [
      "   专利探索者著录项导出内容 Unnamed: 1 Unnamed: 2 Unnamed: 3 Unnamed: 4 Unnamed: 5  \\\n1            序号        申请日        公开日      授权公告日      国际申请日      国际公开日   \n3             2   20121130   20130605   20130605        NaN        NaN   \n4             3   20120629   20130109   20130109        NaN        NaN   \n5             4   20170118   20170915   20170915        NaN        NaN   \n6             5   20150430   20150812   20150812        NaN        NaN   \n7             6   20131226   20140702   20140702        NaN        NaN   \n8             7   20130306   20130731   20130731        NaN        NaN   \n9             8   20140127   20140716   20140716        NaN        NaN   \n10            9   20151125   20160608   20160608        NaN        NaN   \n11           10   20151123   20160323   20160323        NaN        NaN   \n12           11   20150923   20160113   20160113        NaN        NaN   \n13           12   20140829   20141217   20141217        NaN        NaN   \n14           13   20120816   20130327   20130327        NaN        NaN   \n15           14   20120826   20130313   20130313        NaN        NaN   \n16           15   20120309   20121114   20121114        NaN        NaN   \n17           16   20111111   20120704   20120704        NaN        NaN   \n18           17   20151201   20160518   20160518        NaN        NaN   \n19           18   20170413   20171124   20171124        NaN        NaN   \n20           19   20160616   20161109   20161109        NaN        NaN   \n21           20   20111111   20120704   20120704        NaN        NaN   \n22           21   20160803   20170208   20170208        NaN        NaN   \n23           22   20111230   20121003   20121003        NaN        NaN   \n24           23   20111021   20120530   20120530        NaN        NaN   \n25           24   20101217   20110803   20110803        NaN        NaN   \n26           25   20151230   20160810   20160810        NaN        NaN   \n27           26   20101123   20110629   20110629        NaN        NaN   \n28           27   20120613   20130213   20130213        NaN        NaN   \n29           28   20100518   20110112   20110112        NaN        NaN   \n30           29   20170418   20170908        NaN        NaN        NaN   \n31           30   20150505   20150715   20170804        NaN        NaN   \n32           31   20150803   20151202   20171013        NaN        NaN   \n33           32   20151223   20160601        NaN        NaN        NaN   \n34           33   20150923   20151223        NaN        NaN        NaN   \n35           34   20120117   20120711   20140827        NaN        NaN   \n36           35   20161116   20170315        NaN        NaN        NaN   \n37           36   20151125   20160316        NaN        NaN        NaN   \n38           37   20150605   20150902        NaN        NaN        NaN   \n39           38   20151215   20160511        NaN        NaN        NaN   \n40           39   20170816   20171020        NaN        NaN        NaN   \n41           40   20150206   20150527        NaN        NaN        NaN   \n42           41   20140829   20141210   20170215        NaN        NaN   \n43           42   20160725   20161123        NaN        NaN        NaN   \n44           43   20150616   20150916   20170808        NaN        NaN   \n45           44   20131231   20150701   20171010        NaN        NaN   \n46           45   20120629   20121010   20140924        NaN        NaN   \n47           46   20151201   20160309        NaN        NaN        NaN   \n48           47   20120815   20121219   20150415        NaN        NaN   \n49           48   20161215   20170531        NaN        NaN        NaN   \n50           49   20160530   20161012        NaN        NaN        NaN   \n51           50   20120613   20140101   20160120        NaN        NaN   \n52           51   20140402   20140723   20160525        NaN        NaN   \n53           52   20130904   20150318        NaN        NaN        NaN   \n54           53   20161229   20170426        NaN        NaN        NaN   \n55           54   20090120   20091216   20091216        NaN        NaN   \n56           55   20090421   20090923   20111005        NaN        NaN   \n57           56   20090421   20100210   20100210        NaN        NaN   \n\n          Unnamed: 6    Unnamed: 7    Unnamed: 8 Unnamed: 9     ...      \\\n1                申请号           公开号         授权公告号      国际申请号     ...       \n3   CN201220648309.8  CN202970645U  CN202970645U        NaN     ...       \n4   CN201220311716.X  CN202660070U  CN202660070U        NaN     ...       \n5   CN201720053795.1  CN206495671U  CN206495671U        NaN     ...       \n6   CN201520275721.3  CN204552681U  CN204552681U        NaN     ...       \n7   CN201320869990.3  CN203685139U  CN203685139U        NaN     ...       \n8   CN201320101867.7  CN203097832U  CN203097832U        NaN     ...       \n9   CN201420052611.6  CN203716847U  CN203716847U        NaN     ...       \n10  CN201520947115.1  CN205297466U  CN205297466U        NaN     ...       \n11  CN201520939205.6  CN205100921U  CN205100921U        NaN     ...       \n12  CN201520740877.4  CN204960805U  CN204960805U        NaN     ...       \n13  CN201420497155.6  CN204024473U  CN204024473U        NaN     ...       \n14  CN201220407629.4  CN202832436U  CN202832436U        NaN     ...       \n15  CN201220424325.9  CN202788804U  CN202788804U        NaN     ...       \n16  CN201220088407.0  CN202531140U  CN202531140U        NaN     ...       \n17  CN201120444775.X  CN202300270U  CN202300270U        NaN     ...       \n18  CN201520982246.3  CN205243444U  CN205243444U        NaN     ...       \n19  CN201720386739.X  CN206668173U  CN206668173U        NaN     ...       \n20  CN201620590265.6  CN205677811U  CN205677811U        NaN     ...       \n21  CN201120444777.9  CN202300267U  CN202300267U        NaN     ...       \n22  CN201620831169.6  CN205936420U  CN205936420U        NaN     ...       \n23  CN201120563864.6  CN202467698U  CN202467698U        NaN     ...       \n24  CN201120406824.0  CN202250013U  CN202250013U        NaN     ...       \n25  CN201020685454.4  CN201915925U  CN201915925U        NaN     ...       \n26  CN201521117920.8  CN205445569U  CN205445569U        NaN     ...       \n27  CN201020623713.0  CN201883995U  CN201883995U        NaN     ...       \n28  CN201220277670.4  CN202731863U  CN202731863U        NaN     ...       \n29  CN201020199093.2  CN201705325U  CN201705325U        NaN     ...       \n30  CN201710251019.7  CN107143316A           NaN        NaN     ...       \n31  CN201510222444.4  CN104775758A  CN104775758B        NaN     ...       \n32  CN201510466178.X  CN105114059A  CN105114059B        NaN     ...       \n33  CN201510977233.1  CN105626027A           NaN        NaN     ...       \n34  CN201510610717.2  CN105178857A           NaN        NaN     ...       \n35  CN201210013259.0  CN102562031A  CN102562031B        NaN     ...       \n36  CN201611006945.X  CN106499384A           NaN        NaN     ...       \n37  CN201510825890.4  CN105401916A           NaN        NaN     ...       \n38  CN201510303420.1  CN104881547A           NaN        NaN     ...       \n39  CN201510929340.7  CN105574251A           NaN        NaN     ...       \n40  CN201710699535.6  CN107269263A           NaN        NaN     ...       \n41  CN201510063503.8  CN104653167A           NaN        NaN     ...       \n42  CN201410437180.X  CN104196453A  CN104196453B        NaN     ...       \n43  CN201610590063.6  CN106157346A           NaN        NaN     ...       \n44  CN201510333990.5  CN104912487A  CN104912487B        NaN     ...       \n45  CN201310743937.3  CN104747168A  CN104747168B        NaN     ...       \n46  CN201210221274.4  CN102720893A  CN102720893B        NaN     ...       \n47  CN201510867720.2  CN105386730A           NaN        NaN     ...       \n48  CN201210289514.4  CN102830428A  CN102830428B        NaN     ...       \n49  CN201611162179.6  CN106761710A           NaN        NaN     ...       \n50  CN201610366399.4  CN106001924A           NaN        NaN     ...       \n51  CN201210194801.7  CN103485744A  CN103485744B        NaN     ...       \n52  CN201410131270.6  CN103939062A  CN103939062B        NaN     ...       \n53  CN201310397933.4  CN104420857A           NaN        NaN     ...       \n54  CN201611246406.3  CN106593400A           NaN        NaN     ...       \n55  CN200920010268.8   CN201363123   CN201363123        NaN     ...       \n56  CN200910059007.X   CN101539009  CN101539009B        NaN     ...       \n57  CN200920080334.9   CN201401160   CN201401160        NaN     ...       \n\n   Unnamed: 25           Unnamed: 26 Unnamed: 27 Unnamed: 28  \\\n1          审查日              主分类号(小组)         优先权        优先权日   \n3          NaN             E21B43/00         NaN         NaN   \n4          NaN              F16L5/02         NaN         NaN   \n5          NaN            E21B47/098         NaN         NaN   \n6          NaN            E21B33/128         NaN         NaN   \n7          NaN             E21B43/00         NaN         NaN   \n8          NaN             E21B41/00         NaN         NaN   \n9          NaN              E21B7/04         NaN         NaN   \n10         NaN             E21B34/06         NaN         NaN   \n11         NaN             E21B31/12         NaN         NaN   \n12         NaN              E21B7/08         NaN         NaN   \n13         NaN              E21B7/04         NaN         NaN   \n14         NaN             E21B43/20         NaN         NaN   \n15         NaN            E21B47/022         NaN         NaN   \n16         NaN             E21B43/20         NaN         NaN   \n17         NaN             E21B31/16         NaN         NaN   \n18         NaN             E21B17/07         NaN         NaN   \n19         NaN             E21B17/10         NaN         NaN   \n20         NaN             F04B47/00         NaN         NaN   \n21         NaN             E21B29/10         NaN         NaN   \n22         NaN             E21B17/00         NaN         NaN   \n23         NaN             E21B17/10         NaN         NaN   \n24         NaN             E21B43/24         NaN         NaN   \n25         NaN             E21B43/20         NaN         NaN   \n26         NaN             E21B43/26         NaN         NaN   \n27         NaN            E21B33/128         NaN         NaN   \n28         NaN             E21B43/20         NaN         NaN   \n29         NaN             E21B47/00         NaN         NaN   \n30    20171010             E21B43/12         NaN         NaN   \n31    20150826              E21B7/08         NaN         NaN   \n32    20151230            E21B47/022         NaN         NaN   \n33    20160629            E21B43/267         NaN         NaN   \n34    20160120              E21B7/08         NaN         NaN   \n35    20120912            E21B47/022         NaN         NaN   \n36    20170412             E21B47/00         NaN         NaN   \n37    20160413             E21B34/06         NaN         NaN   \n38    20150930             G06F17/50         NaN         NaN   \n39    20160608             G06F17/50         NaN         NaN   \n40         NaN             E21B47/00         NaN         NaN   \n41    20151230            E21B43/295         NaN         NaN   \n42    20150107              E21B7/04         NaN         NaN   \n43    20170222             G06T11/00         NaN         NaN   \n44    20151014              E21B7/24         NaN         NaN   \n45    20151230            E21B47/022         NaN         NaN   \n46    20121128              F16L3/06         NaN         NaN   \n47    20160406             E21B17/07         NaN         NaN   \n48    20130206              G01V1/18         NaN         NaN   \n49    20170623            E21B47/117         NaN         NaN   \n50         NaN            B23K26/342         NaN         NaN   \n51    20140205  E21B33/126(2006.01)I         NaN         NaN   \n52    20140820             E21B43/11         NaN         NaN   \n53    20150415             E21B43/04         NaN         NaN   \n54    20170524             E21B43/30         NaN         NaN   \n55         NaN             E21B43/00         NaN         NaN   \n56    20091111   E21B43/22(2006.01)I         NaN         NaN   \n57         NaN             E21B43/22         NaN         NaN   \n\n                                          Unnamed: 29 Unnamed: 30 Unnamed: 31  \\\n1                                                引证专利         引证数       专利代理人   \n3                                                 NaN           0         毛光军   \n4                                                 NaN           0     汤建武;周星莹   \n5                                                 NaN           0         罗文远   \n6                                                 NaN           0         NaN   \n7                                                 NaN           0       惠磊;曲鹏   \n8                                                 NaN           0     汤建武;周星莹   \n9                                                 NaN           0         侯华颂   \n10                                                NaN           0         张培勋   \n11                                                NaN           0         NaN   \n12                                                NaN           0     周星莹;汤建武   \n13                                                NaN           0         李景辉   \n14                                                NaN           0         朱雅男   \n15                                                NaN           0         侯华颂   \n16                                                NaN           0          金杰   \n17                                                NaN           0         孙淑荣   \n18                                                NaN           0     管高峰;钱成岑   \n19                                                NaN           0         NaN   \n20                                                NaN           0          李娜   \n21                                                NaN           0         孙淑荣   \n22                                                NaN           0         张恒阳   \n23                                                NaN           0         NaN   \n24                                                NaN           0          金杰   \n25                                                NaN           0         李玉明   \n26                                                NaN           0          何锐   \n27                                                NaN           0         李玉明   \n28                                                NaN           0          金杰   \n29                                                NaN           0         李玉明   \n30                                                NaN           0         NaN   \n31                                                NaN           0         NaN   \n32                                                NaN           0      刘荣;江钊芳   \n33                                                NaN           0         孙海波   \n34                                                NaN           0     周星莹;汤建武   \n35  CN101876244A;CN102140913A;CN102155214A;CN18111...          13         赵郁军   \n36                                                NaN           0          李罡   \n37                                                NaN           0         张培勋   \n38                                                NaN           0         祗志洁   \n39                                                NaN           0         孙海波   \n40                                                NaN           0         NaN   \n41                                                NaN           0          李韬   \n42  CN102116140A;CN201236690Y;CN203335054U;CN20402...           5         李景辉   \n43                                                NaN           0      刘葛;郭鸿雁   \n44                                                NaN           0          毕强   \n45                                                NaN           0         侯华颂   \n46  CN101705799A;CN201326831Y;CN202209480U;CN20266...           9     汤建武;周星莹   \n47                                                NaN           0     管高峰;钱成岑   \n48  CN03806710A;CN102096096A;CN202710753U;CN861055...           6         王元生   \n49                                                NaN           0         吴倩倩   \n50                                                NaN           0         NaN   \n51  CN101555778A;CN200946464Y;CN201148857Y;CN20170...           7          金杰   \n52  CN201007200Y;CN201531255U;US5673760A;WO00/66881A1           4          郭玲   \n53                                                NaN           0         党晓林   \n54                                                NaN           0         徐文权   \n55                                                NaN           0          魏勇   \n56  CN101251002A;CN101270652A;CN201121514Y;WO2008/...           4          徐丰   \n57                                                NaN           0          徐丰   \n\n              Unnamed: 32         Unnamed: 33 Unnamed: 34  \n1                  专利代理机构                全文链接        摘要附图  \n3         成都天嘉专利事务所（普通合伙）  查看CN201220648309.8         NaN  \n4           乌鲁木齐合纵专利商标事务所  查看CN201220311716.X         NaN  \n5          东营双桥专利代理有限责任公司  查看CN201720053795.1         NaN  \n6                     NaN  查看CN201520275721.3         NaN  \n7        北京安信方达知识产权代理有限公司  查看CN201320869990.3         NaN  \n8           乌鲁木齐合纵专利商标事务所  查看CN201320101867.7         NaN  \n9          东营双桥专利代理有限责任公司  查看CN201420052611.6         NaN  \n10         西安吉盛专利代理有限责任公司  查看CN201520947115.1         NaN  \n11                    NaN  查看CN201520939205.6         NaN  \n12          乌鲁木齐合纵专利商标事务所  查看CN201520740877.4         NaN  \n13         北京三友知识产权代理有限公司  查看CN201420497155.6         NaN  \n14     北京三高永信知识产权代理有限责任公司  查看CN201220407629.4         NaN  \n15         东营双桥专利代理有限责任公司  查看CN201220424325.9         NaN  \n16     北京市中实友知识产权代理有限责任公司  查看CN201220088407.0         NaN  \n17         大庆知文知识产权代理有限公司  查看CN201120444775.X         NaN  \n18       成都九鼎天元知识产权代理有限公司  查看CN201520982246.3         NaN  \n19                    NaN  查看CN201720386739.X         NaN  \n20              西安弘理专利事务所  查看CN201620590265.6         NaN  \n21         大庆知文知识产权代理有限公司  查看CN201120444777.9         NaN  \n22         西安吉盛专利代理有限责任公司  查看CN201620831169.6         NaN  \n23                    NaN  查看CN201120563864.6         NaN  \n24     北京市中实友知识产权代理有限责任公司  查看CN201120406824.0         NaN  \n25     北京市中实友知识产权代理有限责任公司  查看CN201020685454.4         NaN  \n26         西安吉盛专利代理有限责任公司  查看CN201521117920.8         NaN  \n27     北京市中实友知识产权代理有限责任公司  查看CN201020623713.0         NaN  \n28     北京市中实友知识产权代理有限责任公司  查看CN201220277670.4         NaN  \n29     北京市中实友知识产权代理有限责任公司  查看CN201020199093.2         NaN  \n30                    NaN  查看CN201710251019.7         NaN  \n31                    NaN  查看CN201510222444.4         NaN  \n32            武汉华旭知识产权事务所  查看CN201510466178.X         NaN  \n33  北京驰纳智财知识产权代理事务所（普通合伙）  查看CN201510977233.1         NaN  \n34          乌鲁木齐合纵专利商标事务所  查看CN201510610717.2         NaN  \n35       北京北新智诚知识产权代理有限公司  查看CN201210013259.0         NaN  \n36       西安新思维专利商标事务所有限公司  查看CN201611006945.X         NaN  \n37         西安吉盛专利代理有限责任公司  查看CN201510825890.4         NaN  \n38            北京永创新实专利事务所  查看CN201510303420.1         NaN  \n39  北京驰纳智财知识产权代理事务所（普通合伙）  查看CN201510929340.7         NaN  \n40                    NaN  查看CN201710699535.6         NaN  \n41  北京工信联合知识产权代理事务所（普通合伙）  查看CN201510063503.8         NaN  \n42         北京三友知识产权代理有限公司  查看CN201410437180.X         NaN  \n43  北京中企鸿阳知识产权代理事务所（普通合伙）  查看CN201610590063.6         NaN  \n44  北京超凡志成知识产权代理事务所（普通合伙）  查看CN201510333990.5         NaN  \n45         东营双桥专利代理有限责任公司  查看CN201310743937.3         NaN  \n46          乌鲁木齐合纵专利商标事务所  查看CN201210221274.4         NaN  \n47       成都九鼎天元知识产权代理有限公司  查看CN201510867720.2         NaN  \n48              威海科星专利事务所  查看CN201210289514.4         NaN  \n49         西安吉盛专利代理有限责任公司  查看CN201611162179.6         NaN  \n50                    NaN  查看CN201610366399.4         NaN  \n51     北京市中实友知识产权代理有限责任公司  查看CN201210194801.7         NaN  \n52              上海光华专利事务所  查看CN201410131270.6         NaN  \n53         北京三友知识产权代理有限公司  查看CN201310397933.4         NaN  \n54         西安通大专利代理有限责任公司  查看CN201611246406.3         NaN  \n55           葫芦岛天开专利代理事务所  查看CN200920010268.8         NaN  \n56        成都天嘉专利事务所（普通合伙）  查看CN200910059007.X         NaN  \n57        成都天嘉专利事务所（普通合伙）  查看CN200920080334.9         NaN  \n\n[56 rows x 35 columns]\n"
     ]
    }
   ],
   "source": [
    "import pandas as pd\n",
    "df3 = pd.read_excel('origin/定向井.xls')\n",
    "df3 = df3.drop([0,2])\n",
    "print(df3)"
   ]
  },
  {
   "cell_type": "code",
   "execution_count": 11,
   "metadata": {},
   "outputs": [
    {
     "name": "stdout",
     "output_type": "stream",
     "text": [
      "['筛管', '水平井', '完井', '装置', '煤层气'] ['PE', '水平井', '完井', '筛管', '煤层气']\n['阶段', '提升', '套管', '固井', '表层'] ['固井', '套管', '深水', '表层', '海上']\n"
     ]
    }
   ],
   "source": [
    "import jieba.analyse\n",
    "abstract1 = '一种煤层气水平井PE筛管完井装置'\n",
    "abstract2 = '海上深水表层套管固井阶段的提升力控制方法'\n",
    "l1 = jieba.analyse.textrank(abstract1, topK=5)\n",
    "l2 = jieba.analyse.extract_tags(abstract1, topK=5)\n",
    "l3 = jieba.analyse.textrank(abstract2, topK=5)\n",
    "l4 = jieba.analyse.extract_tags(abstract2, topK=5)\n",
    "print(l1, l2)\n",
    "print(l3, l4)"
   ]
  },
  {
   "cell_type": "code",
   "execution_count": 16,
   "metadata": {
    "collapsed": true
   },
   "outputs": [
    {
     "name": "stdout",
     "output_type": "stream",
     "text": [
      "0        水泥浆;固井;水量;测量\n1        水泥浆;固井;井底;凝固\n2        水泥浆;管柱;固井;凝固\n3        微珠;水泥浆;固井;改性\n4        水泥浆;固井;脉动;耦合\n5        水泥浆;固井;沉降;测定\n6      水泥浆;试验装置;固井;顶替\n7        水泥浆;稠化;固井;桨叶\n8        水泥浆;提质;固井;工具\n9        水泥浆;混拌;固井;实测\n10       水泥浆;固井;顶替;效率\n11       配注液;固气;固井;三相\n12       水泥浆;固井;油井;搅拌\n13       水泥浆;堵漏;固井;制备\n14     水泥浆;固井;分散剂;聚合物\n15        固井;深井;胶结;界面\n16       水泥浆;固井;评价;及其\n17      水泥浆;低密度;体系;一种\n18       微珠;水泥浆;玻化;制备\n19       水泥浆;环空;固井;失重\n20       防漏;水泥浆;漏失;低密\n21       水泥浆;固井;制备;自由\n22          水泥浆;固井;井筒\n23       水泥浆;固井;胶乳;制备\n24       水泥浆;管外;封隔;填充\n25     水泥浆;固井;油气藏;防腐剂\n26      水泥浆;低密度;高温;新型\n27      固井;耐高温;水泥浆;井下\n28       水泥浆;高强;韧性;制备\n29       水泥浆;制备;弹性;及其\n            ...      \n109      水泥浆;气藏;固井;合剂\n110     水泥浆;固井;稳定剂;制备\n111      水泥浆;稠化;固井;温差\n112     水泥浆;油相;悬浮剂;固井\n113      水泥浆;固井;合剂;自愈\n114      评价;水泥浆;仪及;水侵\n115      堵漏;水泥浆;固井;方法\n116      水泥浆;固井;矿渣;深水\n117     水泥浆;耐高温;养护;高压\n118     水泥浆;固井;钾盐;高密度\n119     水泥浆;固井;混配;全自动\n120      固井;探井;油气田;工艺\n121     水泥浆;固井;胶乳;油气田\n122    水泥浆;固井;低密度;耐高温\n123     水泥浆;固井;探井;油气田\n124     水泥浆;固井;高密度;页岩\n125     水泥浆;固井;油气田;愈合\n126      水泥浆;用降;固井;失水\n127      水平井;固井;套管;油层\n128       固井;采井;瓦斯;煤层\n129      固井;实训室;模拟;作业\n130      水泥浆;固井;温差;适用\n131      水泥浆;中抗;在候;固井\n132      水泥浆;气窜;固井;模拟\n133      水泥浆;固井;体系;一种\n134      水泥浆;防窜;固井;早强\n135       低密;强固;井水;泥浆\n136     泡沫水泥;固井;物理;方法\n137     水泥浆;固井;低密度;低温\n138     混浆;固井;自动控制;水泥\nName: 关键词, dtype: object\n0        PE;水平井;完井;筛管\n1        管柱;水平井;完井;套管\n2      压裂;完井多段;柱及;水平井\n3        管柱;完井;水平井;控水\n4       压裂;管柱;完井用;水平井\n5        找水;管柱;水平井;完井\n6        水平井;完井;筛管;套管\n7       可调式;水平井;完井;短节\n8       PE;完井用;水平井;筛管\n9        管柱;水平井;完井;堵水\n10      管外;水平井;完井;封隔器\n11       管柱;稠油;水平井;完井\n12     水平井;完井;封隔器;电加热\n13          水平井;管柱;完井\n14      完井防;水平井;砂用;控水\n15       管柱;二开;水平井;完井\n16       水平井;完井;筛管;接头\n17      管柱;水平井;完井;渗透性\n18       底水;管柱;气藏;水平井\n19      砂用;水平井;完井防;控水\n20       裸眼;管柱;水平井;完井\n21       找水;管柱;水平井;完井\n22     完井;试验装置;水平井;模拟\n23       稠油;水平井;完井;堵水\n24       管柱;水平井;完井;固井\n25       减阻;管柱;完井;水平井\n26       压裂;管柱;水平井;完井\n27      完井用;水平井;下管;筛管\n28       管柱;完井;水平井;封井\n29     压裂;管柱;完井多段;水平井\n            ...      \n74       储层;水平井;完井;鱼刺\n75       水平井;完井;控水;评价\n76       水平井;完井;方法;一种\n77        压裂;裸眼;管柱;预置\n78       钻塞;水平井;管免;完井\n79     完井用;水平井;筛管;煤层气\n80       压裂;管柱;水平井;完井\n81       减阻;管柱;降刚;水平井\n82      完井;水平井;天然气;方法\n83       管柱;水平井;完井;热采\n84     试验装置;水平井;完井;模拟\n85      泵送;PE;完井用;水平井\n86       压裂;上返;水平井;完井\n87       管柱;稠油;水平井;完井\n88     压裂;找水;完井多段;水平井\n89       压裂;管柱;水平井;完井\n90       完井;堵水;水平井;筛管\n91      水平井;完井;筛管;煤层气\n92      管柱;全井段;水平井;完井\n93      井眼;完井;水平井;水合物\n94       底水;水平井;完井;控水\n95      完井;水平井;单井;煤层气\n96      衬管;完井入;水平井;工具\n97      水平井;近端;完井;煤层气\n98     钻井液;气井;水平井;完井液\n99      完井;水平井;油管柱;采油\n100      完井;水平井;套管;水管\n101      完井;防砂;水平井;结构\n102     管柱;完井;水平井;多功能\n103    sup;sub;水平井;完井\nName: 关键词, dtype: object\n0          钻井;在线;检测;气体\n1      保障系统;井口;钻井;自动控制\n2         空气锤;钎头;钻井;装卸\n3          变角;短节;无级;钻井\n4          钻杆;冲蚀;钻井;模拟\n5          泄压;管汇;钻井;气体\n6          岩屑;钻井;收集;气体\n7          返出;除尘;钻井;流体\n8         携水;携岩;测试仪;钻井\n9         取样器;岩屑;钻井;气体\n10       电控;反馈系统;泄压;钻井\n11       气体;入井;保障系统;钻井\n12           消音器;钻井;气体\n13         淋浴;岩屑;钻井;粉尘\n14         钻井;出水;膨胀;地层\n15         岩屑;钻井;分离;气体\n16         泄压;电控;钻井;远程\n17        短节;气动力;钻具;钻井\n18       管接头;排砂;性气体;冲蚀\n19        用气液;钻井;气体;混合\n20         钻井;固体;气体;注入\n21        气体;可燃;硫化氢;井口\n22        稳定器;钻井;专用;气体\n23         钻井;气量;气体;调节\n24         筛管;岩屑;钻井;进气\n25         岩屑;钻井;气体;装置\n26         钻井;壳体;气体;出口\n27        滚轮;稳定器;钻井;气体\n28       基坑;循环系统;钻井;气体\n29         钻井;壳体;气体;出口\n            ...       \n86         旋流;岩屑;钻井;分离\n87         钻柱;钻井;声波;传输\n88         岩屑;钻井;分离;气体\n89         摩阻;钻井;钻进;气体\n90         钻井;接头;气体;快速\n91      脆性岩石;井壁;钻井;稳定性\n92        内携岩;井筒;钻井;气体\n93         井眼;钻井;净化;气体\n94        空气锤;锤头;钻井;掉落\n95        起下;导引头;钻井;气体\n96        变径;稳定器;钻井;气体\n97        减震器;钻井;横向;气体\n98         气体;钻井;过滤;装置\n99        钻具;稳定器;柔性;钻井\n100       井壁;钻井;稳定性;气体\n101        短节;钻井;螺旋;分流\n102     打捞工具;送放及;钻井;多点\n103       携岩;钻井;安全性;高效\n104        排沙;钻井;管线;气体\n105        除尘;钻井;气体;装置\n106        泄压;管汇;钻井;泡沫\n107       泄压;管汇;钻井;改进型\n108      油气井;消泡器;钻井;泡沫\n109        气井;评测;排水;泡沫\n110     用耐盐;发泡剂;抑制性;钻井\n111      用强;发泡剂;抑制性;钻井\n112       消泡器;流式;钻井;螺旋\n113    两性离子;防塌剂;钻井;聚合物\n114       中抗;保护剂;钻井;地热\n115        消泡;钻井;泡沫;用于\nName: 关键词, dtype: object\n"
     ]
    },
    {
     "name": "stdout",
     "output_type": "stream",
     "text": [
      "0         防喷器;自封;润滑;两级\n1        活塞杆;防喷器;安装;工具\n2            防喷器;起吊;装置\n3         闸板;防喷器;螺栓;侧门\n4       恒压;起下;试验装置;防喷器\n5        旁通;防喷器;抽油杆;消音\n6        螺线管;防喷器;壳体;海底\n7        试压;防喷器;车载式;装置\n8         防喷器;拆装;螺栓;自动\n9         侧门;骨架;防喷器;及防\n10       闸板;防喷器;一体式;一种\n11        防喷器;旋转;监测;装置\n12       防喷器;移运;自升式;吊装\n13       防喷器;一体式;深井;高压\n14        防喷器;减震;装置;一种\n15       修井;防喷器;抽油杆;油田\n16           防喷器;试验;平台\n17       压式;防喷器;抽油杆;可控\n18        防喷器;侧门;液压;开启\n19        轴套;防喷器;拆卸;工具\n20       过盈式;防喷器;压助;密封\n21        试压;防喷器;增压;装置\n22         驱防;喷器;钻机;开关\n23           防喷器;环形;一种\n24       防喷器组;安装;装置;地面\n25       闸板;泄压;防喷器;平衡阀\n26        防喷器;油管;拆卸;手动\n27       移运;防喷器组;装置;一种\n28            固定装置;防喷器\n29        防喷器;试压;连接;装置\n            ...       \n97        防喷器;井口;开关;液压\n98       防喷器;深水;可靠性;实时\n99        手自;防喷器;锁紧;一体\n100        喷器;空防;井下;挤压\n101      抽油杆;防喷器;板式;手动\n102       防喷器;密封;旋转;装置\n103       闸板;防喷器;侧门;开启\n104      井场;遥控装置;喷器;控防\n105     防喷器;蒸汽驱;多功能;专用\n106    作业机;不压井;防喷器;一体式\n107      控制箱;防喷器;三个;系统\n108       防喷器;刀片;组件;及其\n109       防喷器;吊装;专用;工具\n110        喷器;空防;井下;打压\n111     闸板;防喷器;组合式;多用途\n112          防喷器;壳体;一种\n113      防喷器;油路;过滤器;双向\n114       井控防;喷器;锁紧;行程\n115       防喷器;拖车;专用;用于\n116      防喷器组;合体;钻井;水中\n117       防喷器;闸板;侧门;壳体\n118       闸板;防喷器;侧门;连接\n119      胶屑;防喷器;过滤器;环形\n120       快换;防喷器;板式;一种\n121       防喷器;钻井;浮力;深水\n122      防喷器;闸板;抽拉式;液动\n123       基盘;防喷器;导向;水下\n124       成岩;试采;流化;水合物\n125       闸板;防喷器;侧门;连接\n126      防喷器;镜像;多路;数据库\nName: 关键词, dtype: object\n"
     ]
    }
   ],
   "source": [
    "import jieba.analyse\n",
    "import pandas as pd\n",
    "import os\n",
    "filenames = os.listdir('process/关键词')\n",
    "jieba.add_word('固井')\n",
    "jieba.add_word('水泥浆')\n",
    "jieba.add_word('井底', 3)\n",
    "for file in filenames:\n",
    "    path = os.path.join('process', '关键词', file)\n",
    "    df = pd.read_excel(path)\n",
    "    names = df['名称']\n",
    "    df['关键词'] = [';'.join(jieba.analyse.extract_tags(name, topK=4)) for name in names]\n",
    "    df.to_excel(path)\n",
    "    print(df['关键词'])"
   ]
  },
  {
   "cell_type": "code",
   "execution_count": 15,
   "metadata": {
    "collapsed": false
   },
   "outputs": [
    {
     "data": {
      "text/plain": [
       "'-979067808427403937'"
      ]
     },
     "execution_count": 15,
     "metadata": {},
     "output_type": "execute_result"
    }
   ],
   "source": [
    "str(hash('控制环境影响的定向井'))"
   ]
  },
  {
   "cell_type": "code",
   "execution_count": 2,
   "metadata": {},
   "outputs": [
    {
     "data": {
      "text/plain": [
       "'64ef1660f882e9510f4358ec25523c1f'"
      ]
     },
     "execution_count": 2,
     "metadata": {},
     "output_type": "execute_result"
    }
   ],
   "source": [
    "import hashlib\n",
    "hashlib.md5('尾管固井水泥浆防回流装置'.encode()).hexdigest()"
   ]
  },
  {
   "cell_type": "code",
   "execution_count": null,
   "metadata": {},
   "outputs": [],
   "source": [
    "{'cid': 'CN200720173959.020080813XX', 'sid': 'CN200720173959.020080813XX', 'abstractInfoDTO': {'sid': 'CN200720173959.020080813XX', 'abIndexList': [{'indexEnName': 'Abstract ', 'formatId': None, 'value': '<RESULT><table><tr><td class=\"content\" id=\"cpp_content_i0j0\"><p num=\"1\">本实用新型公开了一种防喷器的水下基盘安装导向装置，包括穿装在防喷器导向桩内的导向绳、定位件，所述导向绳下端设有勾挂件，导向绳上设有升沉补偿张力器，定位件设置在基盘井口周围，勾挂件与定位件相互配合完成防喷器的安装导向，使防喷器下水后与井口准确对接。该装置完全能够替代导向基板，操作简单、快捷方便，成本低，并且可以重复使用。</p></td></tr></table></RESULT>', 'indexId': 'IVDB078', 'indexCnName': '摘要', 'indexCode': 'ABVIEW'}], 'dbCode': 'CPPABS', 'pn': 'CN201100114Y', 'vid': None, 'simpleLiteraList': [{'lang': 'CN', 'id': 'CN200720173959.020080813XX', 'dbCode': None, 'pn': 'CN201100114Y', 'rid': None, 'an': None}, {'lang': 'OTHER', 'id': 'CN201100114Y', 'dbCode': None, 'pn': 'CN201100114Y', 'rid': None, 'an': None}], 'figureRid': '813194484', 'tioIndex': {'indexEnName': 'Invention Title', 'formatId': None, 'value': '防喷器的水下基盘安装导向装置', 'indexId': 'IVDB077', 'indexCnName': '发明名称', 'indexCode': 'TIVIEW'}, 'id': 'CN200720173959.020080813XX', 'abstractItemList': [{'indexEnName': 'Application No. ', 'formatId': None, 'value': 'CN200720173959.0', 'indexId': 'IVDB104', 'indexCnName': '申请号&shy;', 'indexCode': 'APO'}, {'indexEnName': 'Application Date', 'formatId': None, 'value': '2007.11.02', 'indexId': 'IVDB007', 'indexCnName': '申请日', 'indexCode': 'APD'}, {'indexEnName': 'Publication No. ', 'formatId': None, 'value': 'CN201100114Y', 'indexId': 'IVDB015', 'indexCnName': '公开（公告）号&shy;', 'indexCode': 'PN'}, {'indexEnName': 'Publication Date', 'formatId': None, 'value': '2008.08.13', 'indexId': 'IVDB012', 'indexCnName': '公开（公告）日', 'indexCode': 'PD'}, {'indexEnName': 'IPC Classification No.', 'formatId': None, 'value': 'E21B33/038', 'indexId': 'IVDB045', 'indexCnName': 'IPC分类号', 'indexCode': 'ICST'}, {'indexEnName': 'Applicant/ Assignee', 'formatId': None, 'value': '中国海洋石油总公司;中海石油(中国)有限公司深圳分公司;', 'indexId': 'IVDB020', 'indexCnName': '申请（专利权）人', 'indexCode': 'PAVIEW'}, {'indexEnName': 'Inventor', 'formatId': None, 'value': '罗俊丰;林宗辉;胡泽刚;汪顺文;刘正礼;', 'indexId': 'IVDB021', 'indexCnName': '发明人', 'indexCode': 'INVIEW'}, {'indexEnName': 'Priority No.', 'formatId': None, 'value': '', 'indexId': 'IVDB047', 'indexCnName': '优先权号', 'indexCode': 'PR'}, {'indexEnName': 'Priority Date', 'formatId': None, 'value': '', 'indexId': 'IVDB051', 'indexCnName': '优先权日', 'indexCode': 'PRD'}, {'indexEnName': 'CPC Classification No.', 'formatId': None, 'value': '', 'indexId': 'IVDB112', 'indexCnName': 'CPC分类号', 'indexCode': 'CPC'}], 'anonymousUser': True, 'nrdAn': 'CN200720173959'}, 'nrdAn': 'CN200720173959'}"
   ]
  },
  {
   "cell_type": "code",
   "execution_count": 17,
   "metadata": {},
   "outputs": [
    {
     "name": "stdout",
     "output_type": "stream",
     "text": [
      "本发明公开了一种适用于酸性油气藏的固井水泥浆防腐剂，通过以下方法合成：（1）将水浴升温至40℃时，加入原料甲醛F，并加入聚乙烯醇，随后加入10%NaOH调节溶液PH值为8‑9，再加入第一批尿素U 1 ，升温到75℃并反应30分钟；（2）用10%的HCl溶液调节反应液的PH值为4.5‑5.5，保温15分钟；（3）用10%的HCl溶液调节反应液的PH值为5.5‑6.5，加入第二批尿素U 2 ，继续反应10分钟；（4）待反应液交联后加入10%NaOH调节PH值为6.5‑7.5，加入第三批尿素U 3 ，继续反应10分钟后降温出料。本发明遇酸后固化成坚硬、惰性的包被层，在酸性物质中溶解度非常小，具有良好的耐弱酸、弱碱性，抗CO 2 、H 2 S腐蚀能力强，与水泥浆有良好的相溶性，且合成成本较低，具有广阔的市场前景。\n"
     ]
    }
   ],
   "source": [
    "from pyquery import PyQuery as pq\n",
    "ab = pq(\"\"\"<RESULT><table><tr><td class=\\\"content\\\" id=\\\"cpp_content_i0j3\\\"><business:Abstract xmlns:business=\\\"http://www.sipo.gov.cn/XMLSchema/business\\\" dataFormat=\\\"original\\\" lang=\\\"zh\\\" sourceDB=\\\"national office\\\" processingType=\\\"original\\\" creator=\\\"03\\\">\\n    <base:Paragraphs xmlns:base=\\\"http://www.sipo.gov.cn/XMLSchema/base\\\" num=\\\"0001\\\">\\u672c\\u53d1\\u660e\\u516c\\u5f00\\u4e86\\u4e00\\u79cd\\u9002\\u7528\\u4e8e\\u9178\\u6027\\u6cb9\\u6c14\\u85cf\\u7684\\u56fa\\u4e95\\u6c34\\u6ce5\\u6d46\\u9632\\u8150\\u5242\\uff0c\\u901a\\u8fc7\\u4ee5\\u4e0b\\u65b9\\u6cd5\\u5408\\u6210\\uff1a\\uff081\\uff09\\u5c06\\u6c34\\u6d74\\u5347\\u6e29\\u81f340\\u2103\\u65f6\\uff0c\\u52a0\\u5165\\u539f\\u6599\\u7532\\u919bF\\uff0c\\u5e76\\u52a0\\u5165\\u805a\\u4e59\\u70ef\\u9187\\uff0c\\u968f\\u540e\\u52a0\\u516510%NaOH\\u8c03\\u8282\\u6eb6\\u6db2PH\\u503c\\u4e3a8\\u20119\\uff0c\\u518d\\u52a0\\u5165\\u7b2c\\u4e00\\u6279\\u5c3f\\u7d20U<base:Sub>1</base:Sub>\\uff0c\\u5347\\u6e29\\u523075\\u2103\\u5e76\\u53cd\\u5e9430\\u5206\\u949f\\uff1b\\uff082\\uff09\\u752810%\\u7684HCl\\u6eb6\\u6db2\\u8c03\\u8282\\u53cd\\u5e94\\u6db2\\u7684PH\\u503c\\u4e3a4.5\\u20115.5\\uff0c\\u4fdd\\u6e2915\\u5206\\u949f\\uff1b\\uff083\\uff09\\u752810%\\u7684HCl\\u6eb6\\u6db2\\u8c03\\u8282\\u53cd\\u5e94\\u6db2\\u7684PH\\u503c\\u4e3a5.5\\u20116.5\\uff0c\\u52a0\\u5165\\u7b2c\\u4e8c\\u6279\\u5c3f\\u7d20U<base:Sub>2</base:Sub>\\uff0c\\u7ee7\\u7eed\\u53cd\\u5e9410\\u5206\\u949f\\uff1b\\uff084\\uff09\\u5f85\\u53cd\\u5e94\\u6db2\\u4ea4\\u8054\\u540e\\u52a0\\u516510%NaOH\\u8c03\\u8282PH\\u503c\\u4e3a6.5\\u20117.5\\uff0c\\u52a0\\u5165\\u7b2c\\u4e09\\u6279\\u5c3f\\u7d20U<base:Sub>3</base:Sub>\\uff0c\\u7ee7\\u7eed\\u53cd\\u5e9410\\u5206\\u949f\\u540e\\u964d\\u6e29\\u51fa\\u6599\\u3002\\u672c\\u53d1\\u660e\\u9047\\u9178\\u540e\\u56fa\\u5316\\u6210\\u575a\\u786c\\u3001\\u60f0\\u6027\\u7684\\u5305\\u88ab\\u5c42\\uff0c\\u5728\\u9178\\u6027\\u7269\\u8d28\\u4e2d\\u6eb6\\u89e3\\u5ea6\\u975e\\u5e38\\u5c0f\\uff0c\\u5177\\u6709\\u826f\\u597d\\u7684\\u8010\\u5f31\\u9178\\u3001\\u5f31\\u78b1\\u6027\\uff0c\\u6297CO<base:Sub>2</base:Sub>\\u3001H<base:Sub>2</base:Sub>S\\u8150\\u8680\\u80fd\\u529b\\u5f3a\\uff0c\\u4e0e\\u6c34\\u6ce5\\u6d46\\u6709\\u826f\\u597d\\u7684\\u76f8\\u6eb6\\u6027\\uff0c\\u4e14\\u5408\\u6210\\u6210\\u672c\\u8f83\\u4f4e\\uff0c\\u5177\\u6709\\u5e7f\\u9614\\u7684\\u5e02\\u573a\\u524d\\u666f\\u3002</base:Paragraphs>\\n  </business:Abstract></td></tr></table></RESULT>\"\"\")\n",
    "for i in range(4):\n",
    "    ab = ab.children()\n",
    "print(ab.text())"
   ]
  },
  {
   "cell_type": "code",
   "execution_count": null,
   "metadata": {},
   "outputs": [],
   "source": [
    ""
   ]
  }
 ],
 "metadata": {
  "kernelspec": {
   "display_name": "Python 2",
   "language": "python",
   "name": "python2"
  },
  "language_info": {
   "codemirror_mode": {
    "name": "ipython",
    "version": 2.0
   },
   "file_extension": ".py",
   "mimetype": "text/x-python",
   "name": "python",
   "nbconvert_exporter": "python",
   "pygments_lexer": "ipython2",
   "version": "2.7.6"
  }
 },
 "nbformat": 4,
 "nbformat_minor": 0
}